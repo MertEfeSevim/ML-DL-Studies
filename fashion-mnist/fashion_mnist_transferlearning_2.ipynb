{
 "cells": [
  {
   "cell_type": "code",
   "execution_count": 2,
   "metadata": {},
   "outputs": [],
   "source": [
    "#import related libraries\n",
    "import numpy as np\n",
    "import matplotlib.pyplot as plt\n",
    "%matplotlib inline\n",
    "import pandas as pd\n",
    "from sklearn import datasets\n",
    "from sklearn.cluster import KMeans\n",
    "from sklearn.preprocessing import StandardScaler\n",
    "import tensorflow as tf\n",
    "from tensorflow.keras.applications.inception_v3 import InceptionV3\n"
   ]
  },
  {
   "cell_type": "code",
   "execution_count": 3,
   "metadata": {},
   "outputs": [],
   "source": [
    "(x_train, y_train), (x_test, y_test) = tf.keras.datasets.fashion_mnist.load_data()\n",
    "x_train = x_train.reshape((x_train.shape[0], 28, 28, 1))\n",
    "x_test = x_test.reshape((x_test.shape[0], 28, 28, 1))\n",
    "x_train = tf.image.resize(x_train, (75, 75))  \n",
    "x_test = tf.image.resize(x_test, (75, 75))\n",
    "x_train = tf.image.grayscale_to_rgb(x_train)\n",
    "x_test = tf.image.grayscale_to_rgb(x_test)\n",
    "x_train, x_test = x_train / 255.0, x_test / 255.0\n"
   ]
  },
  {
   "cell_type": "code",
   "execution_count": 4,
   "metadata": {},
   "outputs": [],
   "source": [
    "base_model = InceptionV3(input_shape=(75, 75, 3), include_top=False, weights='imagenet')"
   ]
  },
  {
   "cell_type": "code",
   "execution_count": 5,
   "metadata": {},
   "outputs": [],
   "source": [
    "for layer in base_model.layers:\n",
    "    layer.trainable = False\n"
   ]
  },
  {
   "cell_type": "code",
   "execution_count": 6,
   "metadata": {},
   "outputs": [],
   "source": [
    "x = base_model.output\n",
    "x = tf.keras.layers.GlobalAveragePooling2D()(x)\n",
    "x = tf.keras.layers.Dense(1024, activation='relu')(x) \n",
    "x = tf.keras.layers.Dense(10, activation='softmax')(x)\n",
    "model = tf.keras.Model(base_model.input, x)\n"
   ]
  },
  {
   "cell_type": "code",
   "execution_count": 7,
   "metadata": {},
   "outputs": [],
   "source": [
    "model.compile(optimizer='adam',\n",
    "              loss='sparse_categorical_crossentropy',\n",
    "              metrics=['accuracy'])\n"
   ]
  },
  {
   "cell_type": "code",
   "execution_count": 8,
   "metadata": {},
   "outputs": [
    {
     "name": "stdout",
     "output_type": "stream",
     "text": [
      "Epoch 1/10\n",
      "1875/1875 [==============================] - 133s 71ms/step - loss: 0.5152 - accuracy: 0.8164 - val_loss: 0.4304 - val_accuracy: 0.8411\n",
      "Epoch 2/10\n",
      "1875/1875 [==============================] - 108s 57ms/step - loss: 0.3851 - accuracy: 0.8580 - val_loss: 0.4074 - val_accuracy: 0.8538\n",
      "Epoch 3/10\n",
      "1875/1875 [==============================] - 104s 55ms/step - loss: 0.3311 - accuracy: 0.8784 - val_loss: 0.4320 - val_accuracy: 0.8512\n",
      "Epoch 4/10\n",
      "1875/1875 [==============================] - 109s 58ms/step - loss: 0.2845 - accuracy: 0.8945 - val_loss: 0.4420 - val_accuracy: 0.8509\n",
      "Epoch 5/10\n",
      "1875/1875 [==============================] - 106s 57ms/step - loss: 0.2380 - accuracy: 0.9118 - val_loss: 0.4512 - val_accuracy: 0.8557\n",
      "Epoch 6/10\n",
      "1875/1875 [==============================] - 107s 57ms/step - loss: 0.2041 - accuracy: 0.9236 - val_loss: 0.5105 - val_accuracy: 0.8480\n",
      "Epoch 7/10\n",
      "1875/1875 [==============================] - 103s 55ms/step - loss: 0.1718 - accuracy: 0.9365 - val_loss: 0.5274 - val_accuracy: 0.8472\n",
      "Epoch 8/10\n",
      "1875/1875 [==============================] - 100s 53ms/step - loss: 0.1461 - accuracy: 0.9469 - val_loss: 0.5546 - val_accuracy: 0.8544\n",
      "Epoch 9/10\n",
      "1875/1875 [==============================] - 110s 59ms/step - loss: 0.1217 - accuracy: 0.9550 - val_loss: 0.6208 - val_accuracy: 0.8532\n",
      "Epoch 10/10\n",
      "1875/1875 [==============================] - 109s 58ms/step - loss: 0.1097 - accuracy: 0.9604 - val_loss: 0.6735 - val_accuracy: 0.8462\n"
     ]
    },
    {
     "data": {
      "text/plain": [
       "<keras.src.callbacks.History at 0x3131e7250>"
      ]
     },
     "execution_count": 8,
     "metadata": {},
     "output_type": "execute_result"
    }
   ],
   "source": [
    "model.fit(x_train, y_train, epochs=10, validation_data=(x_test, y_test))\n"
   ]
  },
  {
   "cell_type": "code",
   "execution_count": 9,
   "metadata": {},
   "outputs": [
    {
     "name": "stdout",
     "output_type": "stream",
     "text": [
      "313/313 - 15s - loss: 0.6735 - accuracy: 0.8462 - 15s/epoch - 47ms/step\n"
     ]
    },
    {
     "data": {
      "text/plain": [
       "[0.6735058426856995, 0.8461999893188477]"
      ]
     },
     "execution_count": 9,
     "metadata": {},
     "output_type": "execute_result"
    }
   ],
   "source": [
    "model.evaluate(x_test,  y_test, verbose=2)\n"
   ]
  },
  {
   "cell_type": "code",
   "execution_count": 13,
   "metadata": {},
   "outputs": [
    {
     "ename": "KeyError",
     "evalue": "'accuracy'",
     "output_type": "error",
     "traceback": [
      "\u001b[0;31m---------------------------------------------------------------------------\u001b[0m",
      "\u001b[0;31mKeyError\u001b[0m                                  Traceback (most recent call last)",
      "Cell \u001b[0;32mIn[13], line 3\u001b[0m\n\u001b[1;32m      1\u001b[0m \u001b[38;5;66;03m#visualize the model accuracy and loss\u001b[39;00m\n\u001b[0;32m----> 3\u001b[0m plt\u001b[38;5;241m.\u001b[39mplot(\u001b[43mmodel\u001b[49m\u001b[38;5;241;43m.\u001b[39;49m\u001b[43mhistory\u001b[49m\u001b[38;5;241;43m.\u001b[39;49m\u001b[43mhistory\u001b[49m\u001b[43m[\u001b[49m\u001b[38;5;124;43m'\u001b[39;49m\u001b[38;5;124;43maccuracy\u001b[39;49m\u001b[38;5;124;43m'\u001b[39;49m\u001b[43m]\u001b[49m)\n\u001b[1;32m      4\u001b[0m plt\u001b[38;5;241m.\u001b[39mplot(model\u001b[38;5;241m.\u001b[39mhistory\u001b[38;5;241m.\u001b[39mhistory[\u001b[38;5;124m'\u001b[39m\u001b[38;5;124mval_accuracy\u001b[39m\u001b[38;5;124m'\u001b[39m])\n\u001b[1;32m      5\u001b[0m plt\u001b[38;5;241m.\u001b[39mtitle(\u001b[38;5;124m'\u001b[39m\u001b[38;5;124mModel accuracy\u001b[39m\u001b[38;5;124m'\u001b[39m)\n",
      "\u001b[0;31mKeyError\u001b[0m: 'accuracy'"
     ]
    }
   ],
   "source": [
    "#visualize the model training accuracy and loss\n",
    "\n",
    "plt.plot(model.history.history['accuracy'])\n",
    "plt.plot(model.history.history['val_accuracy'])\n",
    "plt.title('Model accuracy')\n",
    "plt.ylabel('Accuracy')\n",
    "plt.xlabel('Epoch')\n",
    "plt.legend(['Train', 'Test'], loc='upper left')\n",
    "plt.show()\n"
   ]
  },
  {
   "cell_type": "code",
   "execution_count": 15,
   "metadata": {},
   "outputs": [
    {
     "name": "stdout",
     "output_type": "stream",
     "text": [
      "313/313 [==============================] - 15s 48ms/step\n",
      "[[737   5  34  46  22   1 143   0  10   2]\n",
      " [  0 964   4  20   5   0   6   0   1   0]\n",
      " [  6   5 721  12 156   0  96   0   4   0]\n",
      " [ 37  11  16 806  60   1  64   0   4   1]\n",
      " [  2   1  38  32 839   1  78   0   9   0]\n",
      " [  2   1   0   0   0 934   1  46   4  12]\n",
      " [102   2  45  35 170   0 634   1  11   0]\n",
      " [  0   0   0   0   0  37   0 917   0  46]\n",
      " [  5   1  14   1   6   5   8   1 954   5]\n",
      " [  2   1   0   0   0  11   0  29   1 956]]\n"
     ]
    }
   ],
   "source": [
    "from sklearn.metrics import confusion_matrix\n",
    "#confusion matrix\n",
    "y_pred = model.predict(x_test)\n",
    "y_pred = np.argmax(y_pred, axis=1)\n",
    "cm = confusion_matrix(y_test, y_pred)\n",
    "print(cm)\n"
   ]
  },
  {
   "cell_type": "code",
   "execution_count": null,
   "metadata": {},
   "outputs": [],
   "source": []
  }
 ],
 "metadata": {
  "kernelspec": {
   "display_name": "Python-for-AI",
   "language": "python",
   "name": "python3"
  },
  "language_info": {
   "codemirror_mode": {
    "name": "ipython",
    "version": 3
   },
   "file_extension": ".py",
   "mimetype": "text/x-python",
   "name": "python",
   "nbconvert_exporter": "python",
   "pygments_lexer": "ipython3",
   "version": "3.8.19"
  }
 },
 "nbformat": 4,
 "nbformat_minor": 2
}
